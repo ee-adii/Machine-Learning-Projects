{
  "nbformat": 4,
  "nbformat_minor": 0,
  "metadata": {
    "colab": {
      "provenance": [],
      "mount_file_id": "1Y8R9MQnL0yXrX3KzqQJ_HekAUKWnWx8h",
      "authorship_tag": "ABX9TyP8Hzmhtv6YwkO+BKHuGYnt",
      "include_colab_link": true
    },
    "kernelspec": {
      "name": "python3",
      "display_name": "Python 3"
    },
    "language_info": {
      "name": "python"
    }
  },
  "cells": [
    {
      "cell_type": "markdown",
      "metadata": {
        "id": "view-in-github",
        "colab_type": "text"
      },
      "source": [
        "<a href=\"https://colab.research.google.com/github/ee-adii/Machine-Learning-Projects/blob/main/mcq_Model.ipynb\" target=\"_parent\"><img src=\"https://colab.research.google.com/assets/colab-badge.svg\" alt=\"Open In Colab\"/></a>"
      ]
    },
    {
      "cell_type": "code",
      "source": [
        "!pip install PyPDF2\n",
        "import PyPDF2\n",
        "import nltk\n",
        "from nltk.corpus import stopwords\n",
        "from nltk.tokenize import word_tokenize, sent_tokenize\n",
        "\n",
        "# Ensure the necessary NLTK data packages are downloaded\n",
        "nltk.download('punkt')\n",
        "nltk.download('stopwords')\n",
        "\n",
        "def extract_text_from_pdf(pdf_path):\n",
        "    \"\"\"Extracts text from a PDF file.\"\"\"\n",
        "    pdf_text = \"\"\n",
        "    with open(pdf_path, 'rb') as pdf_file:\n",
        "        pdf_reader = PyPDF2.PdfReader(pdf_file)\n",
        "        for page in pdf_reader.pages:\n",
        "            pdf_text += page.extract_text()\n",
        "    return pdf_text\n",
        "\n",
        "def summarize_text(text, word_limit=1000):\n",
        "    \"\"\"Summarizes the text to a specified word limit.\"\"\"\n",
        "    stop_words = set(stopwords.words(\"english\"))\n",
        "    words = word_tokenize(text)\n",
        "    freq_table = {}\n",
        "\n",
        "    # Frequency table of words\n",
        "    for word in words:\n",
        "        word = word.lower()\n",
        "        if word in stop_words:\n",
        "            continue\n",
        "        if word in freq_table:\n",
        "            freq_table[word] += 1\n",
        "        else:\n",
        "            freq_table[word] = 1\n",
        "\n",
        "    sentences = sent_tokenize(text)\n",
        "    sentence_value = {}\n",
        "\n",
        "    # Assigning a score to each sentence\n",
        "    for sentence in sentences:\n",
        "        for word, freq in freq_table.items():\n",
        "            if word in sentence.lower():\n",
        "                if sentence in sentence_value:\n",
        "                    sentence_value[sentence] += freq\n",
        "                else:\n",
        "                    sentence_value[sentence] = freq\n",
        "\n",
        "    # Average value of a sentence\n",
        "    sum_values = sum(sentence_value.values())\n",
        "    average_value = int(sum_values / len(sentence_value))\n",
        "\n",
        "    summary = \"\"\n",
        "\n",
        "    # Creating summary\n",
        "    for sentence in sentences:\n",
        "        if sentence in sentence_value and sentence_value[sentence] > (1.2 * average_value):\n",
        "            summary += \" \" + sentence\n",
        "\n",
        "    summary_words = word_tokenize(summary)\n",
        "\n",
        "    # If the summary is too long, truncate it to the word limit\n",
        "    if len(summary_words) > word_limit:\n",
        "        summary = \" \".join(summary_words[:word_limit])\n",
        "\n",
        "    return summary\n",
        "\n",
        "def compress_pdf_to_summary(pdf_path, word_limit=1000):\n",
        "    \"\"\"Extracts text from a PDF and summarizes it into a specified word limit.\"\"\"\n",
        "    text = extract_text_from_pdf(pdf_path)\n",
        "    summary = summarize_text(text, word_limit=word_limit)\n",
        "    return summary\n",
        "\n",
        "# Example usage\n",
        "pdf_path = '/content/drive/MyDrive/SDG.pdf'\n",
        "summary = compress_pdf_to_summary(pdf_path)\n",
        "print(summary)"
      ],
      "metadata": {
        "colab": {
          "base_uri": "https://localhost:8080/"
        },
        "id": "G2R4uPwXa3Ww",
        "outputId": "d378e787-348d-4d65-8813-3f3c654b5ad4"
      },
      "execution_count": null,
      "outputs": [
        {
          "output_type": "stream",
          "name": "stdout",
          "text": [
            "Requirement already satisfied: PyPDF2 in /usr/local/lib/python3.10/dist-packages (3.0.1)\n"
          ]
        },
        {
          "output_type": "stream",
          "name": "stderr",
          "text": [
            "[nltk_data] Downloading package punkt to /root/nltk_data...\n",
            "[nltk_data]   Package punkt is already up-to-date!\n",
            "[nltk_data] Downloading package stopwords to /root/nltk_data...\n",
            "[nltk_data]   Package stopwords is already up-to-date!\n"
          ]
        },
        {
          "output_type": "stream",
          "name": "stdout",
          "text": [
            "IN THE YEAR 2015 , LEADERS FROM 193 COUNTRIES OF THE WORLD CAME TOGETHER TO FACE THE FUTURE . They knew we had enough food to feed the world , but that it wasn ’ t getting shared . This set of 17 goals imagines a future just 15 years off that would be rid of poverty and hunger , and safe from the worst effects of climate change . Present in nearly 170 countries and territories , we help nations make the Goals a reality . Yes , it ’ s an ambitious goal—but we believe it can be done . In 2000 , the world committed to halving the number of people living in extreme poverty by the year 2015 and we met this goal . However , more than 800 million people around the world still live on less than $ 1.25 a day— that ’ s about the equivalent of the entire population of Europe living in extreme poverty . END HUNGER , ACHIEVE FOOD SECURITY AND IMPROVED NUTRITION AND PROMOTE SUSTAINABLE AGRICUL TURE In the past 20 years , hunger has dropped by almost half . But for the sake of the nearly 1 out of every 9 people on earth who go to bed hungry every night , we ’ ve got to try . In the 25 years before the SDGs , we made big strides—preventable child deaths dropped by more than half , and maternal mortality went down by almost as much . And yet some other numbers remain tragically high , like the fact that 6 million children die every year before their fifth birthday , or that AIDS is the leading cause of death for adolescents in sub-Saharan Africa . We have the means to turn that around and make good health more than just a wish.ENSURE INCLUSIVE AND EQUITABLE QUALITY EDUCATION AND PROMOTE LIFELONG LEARNING OPPORTUNITIES FOR ALL First , the bad news on education . Poverty , armed conflict and other emergencies keep many , many kids around the world out of school . Since 2000 , there has been enormous progress on the goal to provide primary education to all children worldwide : the total enrolment rate in developing regions has reached 91 % . By measures in any school , that ’ s a good grade . Now , let ’ s get an even better grade for all kids , and achieve the goal of universal primary and secondary education , affordable vocational training , access to higher education and more.We can celebrate the great progress the world has made in becoming more prosperous and fair . There are still gross inequalities in work and wages , lots of unpaid “ women ’ s work ” such as child care and domestic work , and discrimination in public decision- making . While many people take clean drinking water and sanitation for granted , many others don ’ t . Water scarcity affects more than 40 percent of people around the world , and that number is projected to go even higher as a result of climate change . If we continue the path we ’ re on , by 2050 at least one in four people are likely to be affected by recurring water shortages . But we can take a new path—more international cooperation , protecting wetlands and rivers , sharing water-treatment technologies—that leads to accomplishing this Goal . ENSURE AVAILABILITY AND SUSTAINABLE MANAGEMENT OF WATER AND SANITATION FOR ALL ENSURE ACCESS TO AFFORDABLE , RELIABLE , SUSTAINABLE AND MODERN ENERGY FOR ALL Between 1990 and 2010 , the number of people with access to electricity increased by 1.7 billion . And yet as the world ’ s population continues to rise , still more people will need cheap energy to light their homes and streets , use phones and computers , and do their everyday business . How we get that energy is at issue ; fossil fuels and greenhouse gas emissions are making drastic changes in the climate , leading to big problems on every continent . How ’ s that for a balancing act ? PROMOTE SUSTAINED , INCLUSIVE AND SUSTAINABLE ECONOMIC GROWTH , FULL AND PRODUCTIVE EMPLOYMENT AND DECENT WORK FOR ALL An important part of economic growth is that people have jobs that pay enough to support themselves and their families . The good news is that the middle class is growing worldwide—almost tripling in size in developing countries in the last 25 years , to more than a third of the population . And in the end we can achieve the goal of decent work for all women and men by 2030.BUILD RESILIENT INFRASTRUCTURE , PROMOTE INCLUSIVE AND SUSTAINABLE INDUSTRIALIZATION AND FOSTER INNOVATION Technological progress helps us address big global challenges such as creating jobs and becoming more energy efficient . And yet four billion people have no way of getting online , the vast majority of them in developing countries . The more we invest in innovation and infrastructure , the better off we ’ ll all be . Bridging the digital divide , promoting sustainable industries , and investing in scientific research and innovation are all important ways to facilitate sustainable development.REDUCE INEQUALITY WITHIN AND AMONG COUNTRIES It ’ s an old story : the rich get richer , and the poor get poorer . That means improving the regulation of financial markets and institutions , sending development aid where it is most needed and helping people migrate safely so they can pursue opportunities . MAKE CITIES AND HUMAN SETTLEMENTS INCLUSIVE , SAFE , RESILIENT AND SUSTAINABLE If you ’ re like most people , you live in a city . More than half the world ’ s population now lives in cities , and that figure will go to about two-thirds of humanity by the year 2050 . The thing is , they ’ re also often centers of extreme poverty . To make cities\n"
          ]
        }
      ]
    },
    {
      "cell_type": "code",
      "source": [
        "import spacy\n",
        "from collections import Counter\n",
        "import random\n"
      ],
      "metadata": {
        "id": "4Ptooqy5Zdl5"
      },
      "execution_count": null,
      "outputs": []
    },
    {
      "cell_type": "code",
      "source": [
        "# Load English tokenizer, tagger, parser, NER, and word vectors\n",
        "nlp = spacy.load(\"en_core_web_sm\")\n",
        "\n",
        "\n",
        "def generate_mcqs(text, num_questions=5):\n",
        "    # text = clean_text(text)\n",
        "    if text is None:\n",
        "        return []\n",
        "\n",
        "    # Process the text with spaCy\n",
        "    doc = nlp(text)\n",
        "\n",
        "    # Extract sentences from the text\n",
        "    sentences = [sent.text for sent in doc.sents]\n",
        "\n",
        "    # Ensure that the number of questions does not exceed the number of sentences\n",
        "    num_questions = min(num_questions, len(sentences))\n",
        "\n",
        "    # Randomly select sentences to form questions\n",
        "    selected_sentences = random.sample(sentences, num_questions)\n",
        "\n",
        "    # Initialize list to store generated MCQs\n",
        "    mcqs = []\n",
        "\n",
        "    # Generate MCQs for each selected sentence\n",
        "    for sentence in selected_sentences:\n",
        "        # Process the sentence with spaCy\n",
        "        sent_doc = nlp(sentence)\n",
        "\n",
        "        # Extract entities (nouns) from the sentence\n",
        "        nouns = [token.text for token in sent_doc if token.pos_ == \"NOUN\"]\n",
        "\n",
        "        # Ensure there are enough nouns to generate MCQs\n",
        "        if len(nouns) < 2:\n",
        "            continue\n",
        "\n",
        "        # Count the occurrence of each noun\n",
        "        noun_counts = Counter(nouns)\n",
        "\n",
        "        # Select the most common noun as the subject of the question\n",
        "        if noun_counts:\n",
        "            subject = noun_counts.most_common(1)[0][0]\n",
        "\n",
        "            # Generate the question stem\n",
        "            question_stem = sentence.replace(subject, \"______\")\n",
        "\n",
        "            # Generate answer choices\n",
        "            answer_choices = [subject]\n",
        "\n",
        "            # Add some random words from the text as distractors\n",
        "            distractors = list(set(nouns) - {subject})\n",
        "\n",
        "            # Ensure there are at least three distractors\n",
        "            while len(distractors) < 3:\n",
        "                distractors.append(\"[Distractor]\")  # Placeholder for missing distractors\n",
        "\n",
        "            random.shuffle(distractors)\n",
        "            for distractor in distractors[:3]:\n",
        "                answer_choices.append(distractor)\n",
        "\n",
        "            # Shuffle the answer choices\n",
        "            random.shuffle(answer_choices)\n",
        "\n",
        "            # Append the generated MCQ to the list\n",
        "            correct_answer = chr(64 + answer_choices.index(subject) + 1)  # Convert index to letter\n",
        "            mcqs.append((question_stem, answer_choices, correct_answer))\n",
        "\n",
        "    return mcqs\n"
      ],
      "metadata": {
        "id": "tzrJ0QRYSJG2"
      },
      "execution_count": null,
      "outputs": []
    },
    {
      "cell_type": "code",
      "source": [
        "tech_text = summary\n",
        "mcqs = generate_mcqs(tech_text, num_questions=5)  # Pass the selected number of questions\n",
        "# Ensure each MCQ is formatted correctly as (question_stem, answer_choices, correct_answer)\n",
        "mcqs_with_index = [(i + 1, mcq) for i, mcq in enumerate(mcqs)]\n",
        "\n",
        "for question in mcqs_with_index:\n",
        "    print(\"Question\", question[0], \":\", question[1][0])\n",
        "    print(\"Options:\")\n",
        "    options = question[1][1]\n",
        "    for i, option in enumerate(options):\n",
        "        print(f\"{chr(97 + i)}) {option}\")\n",
        "    print(\"Correct Answer:\", question[1][2])\n",
        "    print(\"\\n\")"
      ],
      "metadata": {
        "colab": {
          "base_uri": "https://localhost:8080/"
        },
        "id": "bu0LdGpuZTyl",
        "outputId": "b63bdb39-c09d-470b-f1b3-f4e2aa3e7e9a"
      },
      "execution_count": null,
      "outputs": [
        {
          "output_type": "stream",
          "name": "stdout",
          "text": [
            "Question 1 : In the 25 ______ before the SDGs , we made big strides—preventable child deaths dropped by more than half , and maternal mortality went down by almost as much .\n",
            "Options:\n",
            "a) strides\n",
            "b) years\n",
            "c) mortality\n",
            "d) deaths\n",
            "Correct Answer: B\n",
            "\n",
            "\n",
            "Question 2 : And yet four billion ______ have no way of getting online , the vast majority of them in developing countries .\n",
            "Options:\n",
            "a) way\n",
            "b) countries\n",
            "c) majority\n",
            "d) people\n",
            "Correct Answer: D\n",
            "\n",
            "\n",
            "Question 3 : ______ scarcity affects more than 40 percent of people around the world , and that number is projected to go even higher as a result of climate change .\n",
            "Options:\n",
            "a) climate\n",
            "b) scarcity\n",
            "c) Water\n",
            "d) world\n",
            "Correct Answer: C\n",
            "\n",
            "\n",
            "Question 4 : But we can take a new ______—more international cooperation , protecting wetlands and rivers , sharing water-treatment technologies—that leads to accomplishing this Goal .\n",
            "Options:\n",
            "a) water\n",
            "b) rivers\n",
            "c) path\n",
            "d) technologies\n",
            "Correct Answer: C\n",
            "\n",
            "\n",
            "Question 5 : ENSURE ______ AND SUSTAINABLE MANAGEMENT OF WATER AND SANITATION FOR ALL ENSURE ACCESS TO AFFORDABLE , RELIABLE , SUSTAINABLE AND MODERN ENERGY FOR ALL Between 1990 and 2010 , the number of people with access to electricity increased by 1.7 billion .\n",
            "Options:\n",
            "a) number\n",
            "b) ENERGY\n",
            "c) people\n",
            "d) AVAILABILITY\n",
            "Correct Answer: D\n",
            "\n",
            "\n"
          ]
        }
      ]
    },
    {
      "cell_type": "code",
      "source": [],
      "metadata": {
        "id": "i7cYLH8WkO4z"
      },
      "execution_count": null,
      "outputs": []
    },
    {
      "cell_type": "code",
      "source": [],
      "metadata": {
        "id": "tfHtdJhik_Hd"
      },
      "execution_count": null,
      "outputs": []
    }
  ]
}